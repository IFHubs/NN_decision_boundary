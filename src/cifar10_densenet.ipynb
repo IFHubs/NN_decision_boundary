{
 "cells": [
  {
   "cell_type": "code",
   "execution_count": 1,
   "metadata": {},
   "outputs": [
    {
     "name": "stderr",
     "output_type": "stream",
     "text": [
      "Using TensorFlow backend.\n"
     ]
    }
   ],
   "source": [
    "import tensorflow as tf\n",
    "from tensorflow.examples.tutorials.mnist import input_data\n",
    "import numpy as np\n",
    "import time\n",
    "import os\n",
    "from utils import *\n",
    "import keras\n",
    "import tflearn\n",
    "os.environ[\"CUDA_VISIBLE_DEVICES\"]='0'"
   ]
  },
  {
   "cell_type": "markdown",
   "metadata": {},
   "source": [
    "# Help functions"
   ]
  },
  {
   "cell_type": "code",
   "execution_count": 2,
   "metadata": {
    "collapsed": true
   },
   "outputs": [],
   "source": [
    "def get_2_class(imgs, labs):\n",
    "    label = np.concatenate(labs)\n",
    "    index_0 = np.where(label==0)[0]\n",
    "    index_1 = np.where(label==2)[0]\n",
    "    index = list(index_0)+list(index_1)\n",
    "    images = imgs[index]\n",
    "    label = label[index]\n",
    "    label = to_categorical(label, 2)\n",
    "    return images, label\n",
    "def plot_temp(feature, label):\n",
    "\tpylab.figure()\n",
    "\tred = feature[label == 0]\n",
    "\tblue = feature[label == 1]\n",
    "\tpylab.plot(red[:, 0], red[:, 1], 'g.')\n",
    "\tpylab.plot(blue[:, 0], blue[:, 1], 'k.')\n",
    "\tpylab.xticks(fontsize=17)\n",
    "\tpylab.yticks(fontsize=17)\n",
    "\tpylab.show()  "
   ]
  },
  {
   "cell_type": "markdown",
   "metadata": {},
   "source": [
    "# Load data"
   ]
  },
  {
   "cell_type": "code",
   "execution_count": 3,
   "metadata": {
    "collapsed": true
   },
   "outputs": [],
   "source": [
    "# load cifar 10 data and choose two classes\n",
    "train_data,test_data = keras.datasets.cifar10.load_data()\n",
    "feature = train_data[0]\n",
    "label = train_data[1]\n",
    "feature, label = get_2_class(feature, label)"
   ]
  },
  {
   "cell_type": "markdown",
   "metadata": {},
   "source": [
    "# Build model"
   ]
  },
  {
   "cell_type": "code",
   "execution_count": 4,
   "metadata": {
    "collapsed": true
   },
   "outputs": [],
   "source": [
    "inputs = tf.placeholder(tf.float32, [None, 32, 32, 3], name='inputs')\n",
    "targets = tf.placeholder(tf.float32, [None, 2], name='targets')\n",
    "input_shortcut = tf.placeholder(tf.float32, [None, 2], name='input_shortcut')\n",
    "train_flag = tf.placeholder(tf.bool, name='training')\n",
    "\n",
    "# Growth Rate (12, 16, 32, ...)\n",
    "k = 12\n",
    "\n",
    "# Depth (40, 100, ...)\n",
    "L = 40\n",
    "nb_layers = int((L - 4) / 3)\n",
    "\n",
    "\n",
    "net = tflearn.conv_2d(inputs, 16, 3, regularizer='L2', weight_decay=0.0001)\n",
    "net = tflearn.densenet_block(net, nb_layers, k)\n",
    "net = tflearn.densenet_block(net, nb_layers, k)\n",
    "net = tflearn.densenet_block(net, nb_layers, k)\n",
    "net = tflearn.global_avg_pool(net)\n",
    "\n",
    "net = tflearn.fully_connected(net, 200, activation='relu')\n",
    "feature_transform = tflearn.fully_connected(net, 2, activation='relu')\n",
    "output = dense_custom(tf.cond(train_flag, lambda: feature_transform,\n",
    "                              lambda: input_shortcut),\n",
    "                      2, 2, activation=None)\n",
    "\n",
    "#This part is for computing the accuracy of this model\n",
    "pred_y = tf.nn.softmax(output)\n",
    "pred_y_true = tf.argmax(pred_y, 1)\n",
    "y_true = tf.argmax(targets, 1)\n",
    "correct_prediction = tf.equal(pred_y_true, y_true)\n",
    "accuracy = tf.reduce_mean(tf.cast(correct_prediction, tf.float32))\n",
    "\n",
    "# loss function and optimizer\n",
    "cost = tf.reduce_mean((tf.nn.softmax_cross_entropy_with_logits(logits=output, labels=targets)))\n",
    "optimizer = tf.train.AdamOptimizer(0.0001).minimize(cost)\n",
    "saver = tf.train.Saver(tf.get_collection(tf.GraphKeys.TRAINABLE_VARIABLES))"
   ]
  },
  {
   "cell_type": "code",
   "execution_count": 5,
   "metadata": {
    "collapsed": true
   },
   "outputs": [],
   "source": [
    "config = tf.ConfigProto()\n",
    "config.log_device_placement=False\n",
    "config.allow_soft_placement=True\n",
    "config.gpu_options.allow_growth=True\n",
    "session = tf.Session(config=config)\n",
    "session.run(tf.global_variables_initializer())"
   ]
  },
  {
   "cell_type": "markdown",
   "metadata": {},
   "source": [
    "# Training function"
   ]
  },
  {
   "cell_type": "code",
   "execution_count": 13,
   "metadata": {
    "collapsed": true
   },
   "outputs": [],
   "source": [
    "batch_size = 256\n",
    "def optmizer(optimizer_step, epochs):\n",
    "    for i in (range(epochs)):\n",
    "        epoch_loss = []\n",
    "        start_epoch = time.time()        \n",
    "        for ii in range(len(label)//batch_size):\n",
    "            index = np.random.choice(len(label), batch_size)\n",
    "            dict_input = {inputs:feature[index], targets:label[index],\n",
    "                          train_flag: True, \n",
    "                          input_shortcut: np.zeros([batch_size, 2])}\n",
    "            c, _ = session.run([cost, optimizer_step], feed_dict=dict_input)\n",
    "            epoch_loss.append(c)\n",
    "        print(\"Epoche: {}/{}\".format(i+1, epochs), \"| Training accuracy: \", session.run(accuracy, feed_dict=dict_input), \n",
    "              \"| Cost: {}\".format(np.mean(epoch_loss)), \" | Time for epoch: {:.2f}s\".format(time.time() - start_epoch))\n",
    "        if i%50==0:\n",
    "            saver.save(session,'../model/cifar10_densenet{}.ckpt'.format(i))"
   ]
  },
  {
   "cell_type": "markdown",
   "metadata": {},
   "source": [
    "# Train and check"
   ]
  },
  {
   "cell_type": "code",
   "execution_count": 14,
   "metadata": {
    "collapsed": true
   },
   "outputs": [],
   "source": [
    "saver.restore(session, '../model/cifar10_densenet150.ckpt')"
   ]
  },
  {
   "cell_type": "code",
   "execution_count": 31,
   "metadata": {
    "collapsed": true
   },
   "outputs": [],
   "source": [
    "all_variables = tf.get_collection(tf.GraphKeys.TRAINABLE_VARIABLES)\n",
    "last_layer_variables = filter(lambda x: 'Variable' in x.name, all_variables)\n",
    "previous_layer_variables = filter(lambda x: 'Variable' not in x.name, all_variables)\n",
    "\n",
    "optimizer_sgd_last_layer = tf.train.GradientDescentOptimizer(1e-5)\n",
    "step_sgd_last_layer = optimizer_sgd_last_layer.minimize(cost, var_list = last_layer_variables)\n",
    "reset_opt_op = tf.variables_initializer([optimizer_sgd_last_layer.get_slot(var, name) \n",
    "                for name in optimizer_sgd_last_layer.get_slot_names() for var in last_layer_variables])\n",
    "session.run(tf.variables_initializer(last_layer_variables))\n",
    "session.run(reset_opt_op)"
   ]
  },
  {
   "cell_type": "code",
   "execution_count": null,
   "metadata": {
    "scrolled": true
   },
   "outputs": [
    {
     "name": "stdout",
     "output_type": "stream",
     "text": [
      "('Epoche: 1/1000', '| Training accuracy: ', 0.98046875, '| Cost: 0.360543459654', ' | Time for epoch: 4.03s')\n",
      "('Epoche: 2/1000', '| Training accuracy: ', 0.98828125, '| Cost: 0.36511656642', ' | Time for epoch: 3.28s')\n",
      "('Epoche: 3/1000', '| Training accuracy: ', 0.99609375, '| Cost: 0.358322739601', ' | Time for epoch: 3.28s')\n",
      "('Epoche: 4/1000', '| Training accuracy: ', 0.984375, '| Cost: 0.361093461514', ' | Time for epoch: 3.26s')\n",
      "('Epoche: 5/1000', '| Training accuracy: ', 0.98828125, '| Cost: 0.358428120613', ' | Time for epoch: 3.33s')\n",
      "('Epoche: 6/1000', '| Training accuracy: ', 0.96875, '| Cost: 0.35475191474', ' | Time for epoch: 3.24s')\n",
      "('Epoche: 7/1000', '| Training accuracy: ', 0.96484375, '| Cost: 0.358833938837', ' | Time for epoch: 3.26s')\n"
     ]
    }
   ],
   "source": [
    "optmizer(step_sgd_last_layer, 1000)"
   ]
  },
  {
   "cell_type": "code",
   "execution_count": 22,
   "metadata": {
    "collapsed": true
   },
   "outputs": [],
   "source": [
    "def plot_temp(feature, label, name=None):\n",
    "\tpylab.figure()\n",
    "\tred = feature[label == 0]\n",
    "\tblue = feature[label == 1]\n",
    "\tpylab.plot(red[:, 0], red[:, 1], 'g.')\n",
    "\tpylab.plot(blue[:, 0], blue[:, 1], 'k.')\n",
    "\tpylab.xticks(fontsize=17)\n",
    "\tpylab.yticks(fontsize=17)\n",
    "\tpylab.show()\n",
    "\n",
    "def plot_temp_all(feature, label, feature_t, label_t, \n",
    "\tname=None):\n",
    "\tpylab.figure()\n",
    "\tred = feature[label == 0]\n",
    "\tblue = feature[label == 1]\n",
    "\tgreen = feature_t[label_t == 0]\n",
    "\tblack = feature_t[label_t == 1]\n",
    "\tpylab.plot(red[:, 0], red[:, 1], 'r.')\n",
    "\tpylab.plot(blue[:, 0], blue[:, 1], 'b.')\n",
    "\tpylab.plot(green[:, 0], green[:, 1], 'g.')\n",
    "\tpylab.plot(black[:, 0], black[:, 1], 'k.')\n",
    "\tpylab.xticks(fontsize=17)\n",
    "\tpylab.yticks(fontsize=17)\n",
    "\tpylab.show()\n",
    "\n",
    "\n",
    "def random_points(start_x, end_x, start_y, end_y, size, random_state):\n",
    "\tnp.random.seed(random_state)\n",
    "\tx1 = np.random.uniform(start_x, end_x, size)\n",
    "\tx2 = np.random.uniform(start_y, end_y, size)\n",
    "\tfeature =  np.vstack([x1,x2]).transpose()\n",
    "\tlabel = np.random.choice(2,size)\n",
    "\treturn feature, label"
   ]
  },
  {
   "cell_type": "code",
   "execution_count": 23,
   "metadata": {
    "collapsed": true
   },
   "outputs": [],
   "source": [
    "batch_size_test = 256\n",
    "# def get_transform_feature():\n",
    "feature_t = []\n",
    "label_t = []\n",
    "image_object = batch_object(feature, batch_size)\n",
    "label_object = batch_object(label, batch_size)\n",
    "for ii in range(len(label)//batch_size_test):\n",
    "    imgs = image_object.next_batch()\n",
    "    labs = label_object.next_batch()\n",
    "    label_t.append(labs)\n",
    "    feature_t.append(\n",
    "        session.run(feature_transform, \n",
    "                    feed_dict={inputs:imgs, targets:labs,\n",
    "                               train_flag: True, \n",
    "                               input_shortcut: np.zeros([batch_size, 2])}))\n",
    "label_t = np.concatenate(label_t, 0)\n",
    "label_t = np.argmax(label_t, 1)\n",
    "feature_t = np.concatenate(feature_t, 0)\n"
   ]
  },
  {
   "cell_type": "code",
   "execution_count": 27,
   "metadata": {},
   "outputs": [],
   "source": [
    "feature_random, label_random = random_points(-300,\n",
    "    300,-50,500, 30000,\n",
    "    random_state=100)\n",
    "label_random = to_categorical(label_random, 2)\n",
    "pre_label_nn= session.run(\n",
    "    pred_y_true,\n",
    "    feed_dict={inputs:imgs, \n",
    "               targets:label_random,\n",
    "               train_flag: False, \n",
    "               input_shortcut: feature_random})\n",
    "\n",
    "clf = get_svm(feature_t, label_t)\n",
    "pre_label_svm = clf.predict(feature_random)"
   ]
  },
  {
   "cell_type": "code",
   "execution_count": 28,
   "metadata": {},
   "outputs": [
    {
     "data": {
      "image/png": "[encoded data removed]",
      "text/plain": [
       "<matplotlib.figure.Figure at 0x4e8af2d0>"
      ]
     },
     "metadata": {},
     "output_type": "display_data"
    }
   ],
   "source": [
    "plot_temp(feature_t, label_t)"
   ]
  },
  {
   "cell_type": "code",
   "execution_count": 29,
   "metadata": {},
   "outputs": [
    {
     "data": {
      "image/png": "[encoded data removed]",
      "text/plain": [
       "<matplotlib.figure.Figure at 0x5eca8410>"
      ]
     },
     "metadata": {},
     "output_type": "display_data"
    },
    {
     "data": {
      "image/png": "[encoded data removed]",
      "text/plain": [
       "<matplotlib.figure.Figure at 0x5eca0fd0>"
      ]
     },
     "metadata": {},
     "output_type": "display_data"
    }
   ],
   "source": [
    "plot_temp_all(feature_random, pre_label_nn,feature_t, label_t)\n",
    "plot_temp_all(feature_random, pre_label_svm,feature_t, label_t)"
   ]
  },
  {
   "cell_type": "code",
   "execution_count": 30,
   "metadata": {
    "collapsed": true
   },
   "outputs": [],
   "source": [
    "\tplot_blobs_all_together(feature_random, pre_label_nn,feature_t, label_t,\n",
    "\t\t'../result/exploration/NN_decision_boundary_transform_cifar10_densenet.png')\n",
    "\tplot_blobs_all_together(feature_random, pre_label_svm,feature_t, label_t,\n",
    "\t\t'../result/exploration/SVM_decision_boundary_transform_cifar10_densenet.png')"
   ]
  },
  {
   "cell_type": "code",
   "execution_count": null,
   "metadata": {
    "collapsed": true
   },
   "outputs": [],
   "source": []
  }
 ],
 "metadata": {
  "kernelspec": {
   "display_name": "Python 2",
   "language": "python",
   "name": "python2"
  },
  "language_info": {
   "codemirror_mode": {
    "name": "ipython",
    "version": 2
   },
   "file_extension": ".py",
   "mimetype": "text/x-python",
   "name": "python",
   "nbconvert_exporter": "python",
   "pygments_lexer": "ipython2",
   "version": "2.7.5"
  }
 },
 "nbformat": 4,
 "nbformat_minor": 2
}
