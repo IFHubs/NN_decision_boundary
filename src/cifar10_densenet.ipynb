{
 "cells": [
  {
   "cell_type": "code",
   "execution_count": 1,
   "metadata": {},
   "outputs": [
    {
     "name": "stderr",
     "output_type": "stream",
     "text": [
      "Using TensorFlow backend.\n"
     ]
    }
   ],
   "source": [
    "import tensorflow as tf\n",
    "from tensorflow.examples.tutorials.mnist import input_data\n",
    "import numpy as np\n",
    "import time\n",
    "import os\n",
    "from utils import *\n",
    "import keras\n",
    "import tflearn\n",
    "os.environ[\"CUDA_VISIBLE_DEVICES\"]='0'"
   ]
  },
  {
   "cell_type": "markdown",
   "metadata": {},
   "source": [
    "# Help functions"
   ]
  },
  {
   "cell_type": "code",
   "execution_count": 2,
   "metadata": {
    "collapsed": true
   },
   "outputs": [],
   "source": [
    "def get_2_class(imgs, labs):\n",
    "    label = np.concatenate(labs)\n",
    "    index_0 = np.where(label==0)[0]\n",
    "    index_1 = np.where(label==2)[0]\n",
    "    index = list(index_0)+list(index_1)\n",
    "    images = imgs[index]\n",
    "    label = label[index]\n",
    "    label = to_categorical(label, 2)\n",
    "    return images, label\n",
    "def plot_temp(feature, label):\n",
    "\tpylab.figure()\n",
    "\tred = feature[label == 0]\n",
    "\tblue = feature[label == 1]\n",
    "\tpylab.plot(red[:, 0], red[:, 1], 'g.')\n",
    "\tpylab.plot(blue[:, 0], blue[:, 1], 'k.')\n",
    "\tpylab.xticks(fontsize=17)\n",
    "\tpylab.yticks(fontsize=17)\n",
    "\tpylab.show()  "
   ]
  },
  {
   "cell_type": "markdown",
   "metadata": {},
   "source": [
    "# Load data"
   ]
  },
  {
   "cell_type": "code",
   "execution_count": 3,
   "metadata": {
    "collapsed": true
   },
   "outputs": [],
   "source": [
    "# load cifar 10 data and choose two classes\n",
    "train_data,test_data = keras.datasets.cifar10.load_data()\n",
    "feature = train_data[0]\n",
    "label = train_data[1]\n",
    "feature, label = get_2_class(feature, label)"
   ]
  },
  {
   "cell_type": "markdown",
   "metadata": {},
   "source": [
    "# Build model"
   ]
  },
  {
   "cell_type": "code",
   "execution_count": 4,
   "metadata": {
    "collapsed": true
   },
   "outputs": [],
   "source": [
    "inputs = tf.placeholder(tf.float32, [None, 32, 32, 3], name='inputs')\n",
    "targets = tf.placeholder(tf.float32, [None, 2], name='targets')\n",
    "input_shortcut = tf.placeholder(tf.float32, [None, 2], name='input_shortcut')\n",
    "train_flag = tf.placeholder(tf.bool, name='training')\n",
    "\n",
    "# Growth Rate (12, 16, 32, ...)\n",
    "k = 12\n",
    "\n",
    "# Depth (40, 100, ...)\n",
    "L = 40\n",
    "nb_layers = int((L - 4) / 3)\n",
    "\n",
    "\n",
    "net = tflearn.conv_2d(inputs, 16, 3, regularizer='L2', weight_decay=0.0001)\n",
    "net = tflearn.densenet_block(net, nb_layers, k)\n",
    "net = tflearn.densenet_block(net, nb_layers, k)\n",
    "net = tflearn.densenet_block(net, nb_layers, k)\n",
    "net = tflearn.global_avg_pool(net)\n",
    "\n",
    "net = tflearn.fully_connected(net, 200, activation='relu')\n",
    "feature_transform = tflearn.fully_connected(net, 2, activation='relu')\n",
    "output = dense_custom(tf.cond(train_flag, lambda: feature_transform,\n",
    "                              lambda: input_shortcut),\n",
    "                      2, 2, activation=None)\n",
    "\n",
    "#This part is for computing the accuracy of this model\n",
    "pred_y = tf.nn.softmax(output)\n",
    "pred_y_true = tf.argmax(pred_y, 1)\n",
    "y_true = tf.argmax(targets, 1)\n",
    "correct_prediction = tf.equal(pred_y_true, y_true)\n",
    "accuracy = tf.reduce_mean(tf.cast(correct_prediction, tf.float32))\n",
    "\n",
    "# loss function and optimizer\n",
    "cost = tf.reduce_mean((tf.nn.softmax_cross_entropy_with_logits(logits=output, labels=targets)))\n",
    "optimizer = tf.train.AdamOptimizer(0.0001).minimize(cost)\n",
    "saver = tf.train.Saver(tf.get_collection(tf.GraphKeys.TRAINABLE_VARIABLES))"
   ]
  },
  {
   "cell_type": "code",
   "execution_count": 5,
   "metadata": {
    "collapsed": true
   },
   "outputs": [],
   "source": [
    "config = tf.ConfigProto()\n",
    "config.log_device_placement=False\n",
    "config.allow_soft_placement=True\n",
    "config.gpu_options.allow_growth=True\n",
    "session = tf.Session(config=config)\n",
    "session.run(tf.global_variables_initializer())"
   ]
  },
  {
   "cell_type": "markdown",
   "metadata": {},
   "source": [
    "# Training function"
   ]
  },
  {
   "cell_type": "code",
   "execution_count": 13,
   "metadata": {
    "collapsed": true
   },
   "outputs": [],
   "source": [
    "batch_size = 256\n",
    "def optmizer(optimizer_step, epochs):\n",
    "    for i in (range(epochs)):\n",
    "        epoch_loss = []\n",
    "        start_epoch = time.time()        \n",
    "        for ii in range(len(label)//batch_size):\n",
    "            index = np.random.choice(len(label), batch_size)\n",
    "            dict_input = {inputs:feature[index], targets:label[index],\n",
    "                          train_flag: True, \n",
    "                          input_shortcut: np.zeros([batch_size, 2])}\n",
    "            c, _ = session.run([cost, optimizer_step], feed_dict=dict_input)\n",
    "            epoch_loss.append(c)\n",
    "        print(\"Epoche: {}/{}\".format(i+1, epochs), \"| Training accuracy: \", session.run(accuracy, feed_dict=dict_input), \n",
    "              \"| Cost: {}\".format(np.mean(epoch_loss)), \" | Time for epoch: {:.2f}s\".format(time.time() - start_epoch))\n",
    "        if i%50==0:\n",
    "            saver.save(session,'../model/cifar10_densenet{}.ckpt'.format(i))"
   ]
  },
  {
   "cell_type": "markdown",
   "metadata": {},
   "source": [
    "# Train and check"
   ]
  },
  {
   "cell_type": "code",
   "execution_count": 14,
   "metadata": {
    "collapsed": true
   },
   "outputs": [],
   "source": [
    "saver.restore(session, '../model/cifar10_densenet150.ckpt')"
   ]
  },
  {
   "cell_type": "code",
   "execution_count": 15,
   "metadata": {
    "collapsed": true
   },
   "outputs": [],
   "source": [
    "optimizer_sgd_last_layer = tf.train.GradientDescentOptimizer(1e-5)\n",
    "step_sgd_last_layer = optimizer_sgd_last_layer.minimize(cost)\n",
    "reset_opt_op = tf.variables_initializer([optimizer_sgd_last_layer.get_slot(var, name) \n",
    "                for name in optimizer_sgd_last_layer.get_slot_names() for var in last_layer_variables])\n",
    "session.run(reset_opt_op)"
   ]
  },
  {
   "cell_type": "code",
   "execution_count": null,
   "metadata": {
    "scrolled": true
   },
   "outputs": [
    {
     "name": "stdout",
     "output_type": "stream",
     "text": [
      "('Epoche: 1/1000', '| Training accuracy: ', 0.98046875, '| Cost: 0.0609661415219', ' | Time for epoch: 22.61s')\n",
      "('Epoche: 2/1000', '| Training accuracy: ', 0.984375, '| Cost: 0.0664535611868', ' | Time for epoch: 22.66s')\n",
      "('Epoche: 3/1000', '| Training accuracy: ', 0.984375, '| Cost: 0.0643667504191', ' | Time for epoch: 22.58s')\n",
      "('Epoche: 4/1000', '| Training accuracy: ', 0.9921875, '| Cost: 0.0613653957844', ' | Time for epoch: 22.25s')\n",
      "('Epoche: 5/1000', '| Training accuracy: ', 0.97265625, '| Cost: 0.0719295293093', ' | Time for epoch: 22.24s')\n",
      "('Epoche: 6/1000', '| Training accuracy: ', 0.99609375, '| Cost: 0.0669254437089', ' | Time for epoch: 22.28s')\n",
      "('Epoche: 7/1000', '| Training accuracy: ', 0.98828125, '| Cost: 0.0623386390507', ' | Time for epoch: 22.28s')\n",
      "('Epoche: 8/1000', '| Training accuracy: ', 0.98828125, '| Cost: 0.0662399157882', ' | Time for epoch: 22.31s')\n",
      "('Epoche: 9/1000', '| Training accuracy: ', 0.96875, '| Cost: 0.0684274956584', ' | Time for epoch: 22.29s')\n",
      "('Epoche: 10/1000', '| Training accuracy: ', 0.984375, '| Cost: 0.0651212409139', ' | Time for epoch: 22.43s')\n",
      "('Epoche: 11/1000', '| Training accuracy: ', 0.984375, '| Cost: 0.065832413733', ' | Time for epoch: 22.44s')\n",
      "('Epoche: 12/1000', '| Training accuracy: ', 0.984375, '| Cost: 0.0646044760942', ' | Time for epoch: 22.44s')\n",
      "('Epoche: 13/1000', '| Training accuracy: ', 0.98828125, '| Cost: 0.0673528090119', ' | Time for epoch: 22.41s')\n",
      "('Epoche: 14/1000', '| Training accuracy: ', 0.9765625, '| Cost: 0.0686994343996', ' | Time for epoch: 22.45s')\n",
      "('Epoche: 15/1000', '| Training accuracy: ', 0.98828125, '| Cost: 0.0609454996884', ' | Time for epoch: 22.37s')\n",
      "('Epoche: 16/1000', '| Training accuracy: ', 0.95703125, '| Cost: 0.068760804832', ' | Time for epoch: 22.43s')\n",
      "('Epoche: 17/1000', '| Training accuracy: ', 0.984375, '| Cost: 0.0618383139372', ' | Time for epoch: 22.50s')\n",
      "('Epoche: 18/1000', '| Training accuracy: ', 0.9765625, '| Cost: 0.0716672465205', ' | Time for epoch: 22.43s')\n",
      "('Epoche: 19/1000', '| Training accuracy: ', 0.98828125, '| Cost: 0.067146807909', ' | Time for epoch: 22.43s')\n",
      "('Epoche: 20/1000', '| Training accuracy: ', 0.99609375, '| Cost: 0.0672173351049', ' | Time for epoch: 22.41s')\n",
      "('Epoche: 21/1000', '| Training accuracy: ', 0.9921875, '| Cost: 0.0643202289939', ' | Time for epoch: 22.46s')\n",
      "('Epoche: 22/1000', '| Training accuracy: ', 0.984375, '| Cost: 0.0650600120425', ' | Time for epoch: 22.44s')\n",
      "('Epoche: 23/1000', '| Training accuracy: ', 0.98046875, '| Cost: 0.0628502890468', ' | Time for epoch: 23.27s')\n",
      "('Epoche: 24/1000', '| Training accuracy: ', 1.0, '| Cost: 0.069624170661', ' | Time for epoch: 22.89s')\n",
      "('Epoche: 25/1000', '| Training accuracy: ', 0.984375, '| Cost: 0.0707003325224', ' | Time for epoch: 23.27s')\n",
      "('Epoche: 26/1000', '| Training accuracy: ', 1.0, '| Cost: 0.0645659789443', ' | Time for epoch: 23.00s')\n",
      "('Epoche: 27/1000', '| Training accuracy: ', 0.99609375, '| Cost: 0.0592053309083', ' | Time for epoch: 23.04s')\n",
      "('Epoche: 28/1000', '| Training accuracy: ', 0.98828125, '| Cost: 0.0635347664356', ' | Time for epoch: 22.67s')\n",
      "('Epoche: 29/1000', '| Training accuracy: ', 0.98828125, '| Cost: 0.0668646842241', ' | Time for epoch: 22.72s')\n",
      "('Epoche: 30/1000', '| Training accuracy: ', 0.9921875, '| Cost: 0.065787166357', ' | Time for epoch: 22.75s')\n",
      "('Epoche: 31/1000', '| Training accuracy: ', 0.984375, '| Cost: 0.0673841461539', ' | Time for epoch: 22.93s')\n",
      "('Epoche: 32/1000', '| Training accuracy: ', 0.97265625, '| Cost: 0.0673477202654', ' | Time for epoch: 22.55s')\n",
      "('Epoche: 33/1000', '| Training accuracy: ', 0.98828125, '| Cost: 0.0680919215083', ' | Time for epoch: 22.77s')\n",
      "('Epoche: 34/1000', '| Training accuracy: ', 0.98828125, '| Cost: 0.0642832145095', ' | Time for epoch: 22.86s')\n"
     ]
    }
   ],
   "source": [
    "optmizer(step_sgd_last_layer, 1000)"
   ]
  },
  {
   "cell_type": "code",
   "execution_count": 8,
   "metadata": {
    "collapsed": true
   },
   "outputs": [],
   "source": [
    "batch_size_test = 256\n",
    "# def get_transform_feature():\n",
    "feature_t = []\n",
    "label_t = []\n",
    "image_object = batch_object(feature, batch_size)\n",
    "label_object = batch_object(label, batch_size)\n",
    "for ii in range(len(label)//batch_size_test):\n",
    "    imgs = image_object.next_batch()\n",
    "    labs = label_object.next_batch()\n",
    "    label_t.append(labs)\n",
    "    feature_t.append(\n",
    "        session.run(feature_transform, \n",
    "                    feed_dict={inputs:imgs, targets:labs,\n",
    "                               train_flag: True, \n",
    "                               input_shortcut: np.zeros([batch_size, 2])}))\n",
    "label_t = np.concatenate(label_t, 0)\n",
    "label_t = np.argmax(label_t, 1)\n",
    "feature_t = np.concatenate(feature_t, 0)\n"
   ]
  },
  {
   "cell_type": "code",
   "execution_count": 9,
   "metadata": {},
   "outputs": [
    {
     "data": {
      "image/png": "[encoded data removed]",
      "text/plain": [
       "<matplotlib.figure.Figure at 0x34a0b90>"
      ]
     },
     "metadata": {},
     "output_type": "display_data"
    }
   ],
   "source": [
    "plot_temp(feature_t, label_t)"
   ]
  },
  {
   "cell_type": "code",
   "execution_count": null,
   "metadata": {
    "collapsed": true
   },
   "outputs": [],
   "source": []
  }
 ],
 "metadata": {
  "kernelspec": {
   "display_name": "Python 2",
   "language": "python",
   "name": "python2"
  },
  "language_info": {
   "codemirror_mode": {
    "name": "ipython",
    "version": 2
   },
   "file_extension": ".py",
   "mimetype": "text/x-python",
   "name": "python",
   "nbconvert_exporter": "python",
   "pygments_lexer": "ipython2",
   "version": "2.7.5"
  }
 },
 "nbformat": 4,
 "nbformat_minor": 2
}
